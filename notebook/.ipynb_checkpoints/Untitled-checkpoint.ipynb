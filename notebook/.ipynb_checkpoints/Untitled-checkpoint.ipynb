{
 "cells": [
  {
   "cell_type": "code",
   "execution_count": 1,
   "metadata": {},
   "outputs": [],
   "source": [
    "%matplotlib inline\n",
    "import pandas as pd\n",
    "import numpy as np\n",
    "import seaborn as sns\n",
    "import matplotlib.pyplot as plt\n",
    "import math\n",
    "from scipy.stats import stats \n",
    "from scipy.stats import pearsonr\n",
    "from scipy.stats.stats import pearsonr\n",
    "import statsmodels.formula.api as smf\n",
    "import statsmodels.api as sm\n",
    "from statsmodels.tools.eval_measures import rmse\n",
    "from statsmodels.tools.eval_measures import mse\n",
    "from sklearn.model_selection import train_test_split\n",
    "from sklearn.linear_model import LinearRegression\n",
    "from sklearn import metrics\n",
    "from sklearn import datasets, linear_model\n",
    "from sklearn.preprocessing import LabelEncoder, OneHotEncoder\n",
    "from statsmodels.stats.outliers_influence import variance_inflation_factor"
   ]
  },
  {
   "cell_type": "code",
   "execution_count": 2,
   "metadata": {},
   "outputs": [],
   "source": [
    "class ErrorCalculator:\n",
    "\n",
    "    def __init__(self, y, y_pred):\n",
    "\n",
    "# target is y and prediction of target is y_prediction\n",
    "        self.y          =   np.array(y)       \n",
    "        self.y_pred     =   np.array(y_pred)  \n",
    "\n",
    "    # check that len of y_prediction is equall to len of y\n",
    "\n",
    "    def dimension(self):\n",
    "\n",
    "        if len(self.y.shape) == len(self.y_pred.shape):\n",
    "            return True\n",
    "\n",
    "        else:\n",
    "            return False\n",
    "\n",
    "\n",
    "\n",
    "    def get_residuals(self):\n",
    "\n",
    "        residuals = self.y - self.y_pred\n",
    "        return residuals\n",
    "\n",
    "    def get_standardised_residuals(self):\n",
    "\n",
    "        standardised_residuals = self.get_residuals() / (self.get_residuals().std())\n",
    "        return standardised_residuals\n",
    "\n",
    "    def get_mse(self):\n",
    "        return mse(self.y, self.y_pred)\n",
    "    \n",
    "    def get_rmse(self):\n",
    "        return rmse(self.y, self.y_pred)\n",
    "\n",
    "    def error_summary(self):\n",
    "\n",
    "        print(\"error_summary: \")\n",
    "\n",
    "        std_resids = self.get_standardised_residuals()\n",
    "\n",
    "        print(f\"•The Mean standard residuals = {std_resids.mean()}\")\n",
    "        print(f\"•The minimum standard residuals = {min(std_resids)}\")\n",
    "        print(f\"•The maximum standard residuals = {max(std_resids)}\")\n",
    "        print(f\"•The Mean Square Error = {self.get_mse()}\")\n",
    "        print(f\"•The Root Square Mean Error = {self.get_rmse()}\")\n",
    "\n",
    "\n",
    "#Plotter class to run claculations\n",
    "class Plotter():\n",
    "    \n",
    "    def __init__(self, y, y_pred):\n",
    "        self.y = y\n",
    "        self.y_pred = y_pred\n",
    "        \n",
    "    def test_calculations(self):\n",
    "        return self.y - self.y_pred\n",
    "    \n",
    "    def plot(self):\n",
    "        plt.hist(self.run_calculations())\n",
    "        plt.title(\"Model Prediction Residuals\")\n",
    "        plt.xlabel(\"Residuals\")\n",
    "        plt.ylabel(\"Frequency\")\n",
    "        plt.show()\n",
    "\n",
    "        \n",
    "##Histogram plotter\n",
    "class HistogramPlotter(Plotter):\n",
    "\n",
    "    def __init__(self, y, y_pred):\n",
    "        super().__init__(y, y_pred)\n",
    "\n",
    "\n",
    "\n",
    "#Scatterplot plotter\n",
    "class ScatterPlotter(Plotter):\n",
    "    \n",
    "    def __init__(self, y, y_pred):\n",
    "        super().__init__(y, y_pred)\n",
    "     \n",
    "    def plot(self):\n",
    "        pd.DataFrame({\"y\":self.y, \"y_pred\":self.y_pred})\n",
    "        plot.scatter( x = \"y\", y = \"y_pred\", color = \"indigo\")\n",
    "        plt.title(\"Model Predictions vs Actual Values\")\n",
    "        plt.xlabel(\"Actual Values\")\n",
    "        plt.ylabel(\"Prediction\")\n",
    "        plt.show()        \n"
   ]
  },
  {
   "cell_type": "code",
   "execution_count": 3,
   "metadata": {},
   "outputs": [
    {
     "data": {
      "text/html": [
       "<div>\n",
       "<style scoped>\n",
       "    .dataframe tbody tr th:only-of-type {\n",
       "        vertical-align: middle;\n",
       "    }\n",
       "\n",
       "    .dataframe tbody tr th {\n",
       "        vertical-align: top;\n",
       "    }\n",
       "\n",
       "    .dataframe thead th {\n",
       "        text-align: right;\n",
       "    }\n",
       "</style>\n",
       "<table border=\"1\" class=\"dataframe\">\n",
       "  <thead>\n",
       "    <tr style=\"text-align: right;\">\n",
       "      <th></th>\n",
       "      <th>salary</th>\n",
       "      <th>exprior</th>\n",
       "      <th>yearsworked</th>\n",
       "      <th>yearsrank</th>\n",
       "      <th>market</th>\n",
       "      <th>degree</th>\n",
       "      <th>otherqual</th>\n",
       "      <th>position</th>\n",
       "      <th>male</th>\n",
       "      <th>Field</th>\n",
       "      <th>yearsabs</th>\n",
       "    </tr>\n",
       "  </thead>\n",
       "  <tbody>\n",
       "    <tr>\n",
       "      <th>0</th>\n",
       "      <td>53000.0</td>\n",
       "      <td>0</td>\n",
       "      <td>0</td>\n",
       "      <td>0</td>\n",
       "      <td>1.17</td>\n",
       "      <td>1</td>\n",
       "      <td>0</td>\n",
       "      <td>1</td>\n",
       "      <td>1</td>\n",
       "      <td>3</td>\n",
       "      <td>0</td>\n",
       "    </tr>\n",
       "    <tr>\n",
       "      <th>1</th>\n",
       "      <td>58000.0</td>\n",
       "      <td>1</td>\n",
       "      <td>0</td>\n",
       "      <td>0</td>\n",
       "      <td>1.24</td>\n",
       "      <td>1</td>\n",
       "      <td>0</td>\n",
       "      <td>1</td>\n",
       "      <td>1</td>\n",
       "      <td>2</td>\n",
       "      <td>0</td>\n",
       "    </tr>\n",
       "    <tr>\n",
       "      <th>2</th>\n",
       "      <td>45500.0</td>\n",
       "      <td>0</td>\n",
       "      <td>0</td>\n",
       "      <td>0</td>\n",
       "      <td>1.21</td>\n",
       "      <td>1</td>\n",
       "      <td>0</td>\n",
       "      <td>1</td>\n",
       "      <td>1</td>\n",
       "      <td>3</td>\n",
       "      <td>2</td>\n",
       "    </tr>\n",
       "    <tr>\n",
       "      <th>3</th>\n",
       "      <td>35782.0</td>\n",
       "      <td>0</td>\n",
       "      <td>2</td>\n",
       "      <td>1</td>\n",
       "      <td>0.99</td>\n",
       "      <td>1</td>\n",
       "      <td>0</td>\n",
       "      <td>1</td>\n",
       "      <td>1</td>\n",
       "      <td>4</td>\n",
       "      <td>1</td>\n",
       "    </tr>\n",
       "    <tr>\n",
       "      <th>4</th>\n",
       "      <td>34731.0</td>\n",
       "      <td>0</td>\n",
       "      <td>2</td>\n",
       "      <td>2</td>\n",
       "      <td>0.91</td>\n",
       "      <td>1</td>\n",
       "      <td>0</td>\n",
       "      <td>1</td>\n",
       "      <td>1</td>\n",
       "      <td>4</td>\n",
       "      <td>1</td>\n",
       "    </tr>\n",
       "  </tbody>\n",
       "</table>\n",
       "</div>"
      ],
      "text/plain": [
       "    salary  exprior  yearsworked  yearsrank  market  degree  otherqual  \\\n",
       "0  53000.0        0            0          0    1.17       1          0   \n",
       "1  58000.0        1            0          0    1.24       1          0   \n",
       "2  45500.0        0            0          0    1.21       1          0   \n",
       "3  35782.0        0            2          1    0.99       1          0   \n",
       "4  34731.0        0            2          2    0.91       1          0   \n",
       "\n",
       "   position  male  Field  yearsabs  \n",
       "0         1     1      3         0  \n",
       "1         1     1      2         0  \n",
       "2         1     1      3         2  \n",
       "3         1     1      4         1  \n",
       "4         1     1      4         1  "
      ]
     },
     "execution_count": 3,
     "metadata": {},
     "output_type": "execute_result"
    }
   ],
   "source": [
    "#Reading csv file for salaries\n",
    "salaries = pd.read_csv(\"salary.csv\")\n",
    "salaries.head()"
   ]
  },
  {
   "cell_type": "code",
   "execution_count": 4,
   "metadata": {},
   "outputs": [
    {
     "data": {
      "text/plain": [
       "(514, 11)"
      ]
     },
     "execution_count": 4,
     "metadata": {},
     "output_type": "execute_result"
    }
   ],
   "source": [
    "#dataframe shape\n",
    "salaries.shape"
   ]
  },
  {
   "cell_type": "code",
   "execution_count": 5,
   "metadata": {},
   "outputs": [
    {
     "name": "stdout",
     "output_type": "stream",
     "text": [
      "<class 'pandas.core.frame.DataFrame'>\n",
      "RangeIndex: 514 entries, 0 to 513\n",
      "Data columns (total 11 columns):\n",
      " #   Column       Non-Null Count  Dtype  \n",
      "---  ------       --------------  -----  \n",
      " 0   salary       513 non-null    float64\n",
      " 1   exprior      514 non-null    int64  \n",
      " 2   yearsworked  514 non-null    int64  \n",
      " 3   yearsrank    514 non-null    int64  \n",
      " 4   market       514 non-null    float64\n",
      " 5   degree       514 non-null    int64  \n",
      " 6   otherqual    514 non-null    int64  \n",
      " 7   position     514 non-null    int64  \n",
      " 8   male         514 non-null    int64  \n",
      " 9   Field        514 non-null    int64  \n",
      " 10  yearsabs     514 non-null    int64  \n",
      "dtypes: float64(2), int64(9)\n",
      "memory usage: 44.3 KB\n"
     ]
    }
   ],
   "source": [
    "#Checking columns and missing values\n",
    "salaries.info()"
   ]
  },
  {
   "cell_type": "code",
   "execution_count": 6,
   "metadata": {},
   "outputs": [],
   "source": [
    "salaries_df = salaries.dropna(axis = 0 ,inplace = True)\n",
    "salaries_df"
   ]
  },
  {
   "cell_type": "code",
   "execution_count": 7,
   "metadata": {},
   "outputs": [
    {
     "data": {
      "text/html": [
       "<div>\n",
       "<style scoped>\n",
       "    .dataframe tbody tr th:only-of-type {\n",
       "        vertical-align: middle;\n",
       "    }\n",
       "\n",
       "    .dataframe tbody tr th {\n",
       "        vertical-align: top;\n",
       "    }\n",
       "\n",
       "    .dataframe thead th {\n",
       "        text-align: right;\n",
       "    }\n",
       "</style>\n",
       "<table border=\"1\" class=\"dataframe\">\n",
       "  <thead>\n",
       "    <tr style=\"text-align: right;\">\n",
       "      <th></th>\n",
       "      <th>count</th>\n",
       "      <th>mean</th>\n",
       "      <th>std</th>\n",
       "      <th>min</th>\n",
       "      <th>25%</th>\n",
       "      <th>50%</th>\n",
       "      <th>75%</th>\n",
       "      <th>max</th>\n",
       "    </tr>\n",
       "  </thead>\n",
       "  <tbody>\n",
       "    <tr>\n",
       "      <th>salary</th>\n",
       "      <td>513.0</td>\n",
       "      <td>50863.220098</td>\n",
       "      <td>12685.132358</td>\n",
       "      <td>29000.00</td>\n",
       "      <td>40000.00</td>\n",
       "      <td>50096.00</td>\n",
       "      <td>60345.00</td>\n",
       "      <td>96156.00</td>\n",
       "    </tr>\n",
       "    <tr>\n",
       "      <th>exprior</th>\n",
       "      <td>513.0</td>\n",
       "      <td>2.931774</td>\n",
       "      <td>4.794327</td>\n",
       "      <td>0.00</td>\n",
       "      <td>0.00</td>\n",
       "      <td>1.00</td>\n",
       "      <td>4.00</td>\n",
       "      <td>25.00</td>\n",
       "    </tr>\n",
       "    <tr>\n",
       "      <th>yearsworked</th>\n",
       "      <td>513.0</td>\n",
       "      <td>12.836257</td>\n",
       "      <td>9.447040</td>\n",
       "      <td>0.00</td>\n",
       "      <td>4.00</td>\n",
       "      <td>12.00</td>\n",
       "      <td>22.00</td>\n",
       "      <td>41.00</td>\n",
       "    </tr>\n",
       "    <tr>\n",
       "      <th>yearsrank</th>\n",
       "      <td>513.0</td>\n",
       "      <td>7.046784</td>\n",
       "      <td>6.419708</td>\n",
       "      <td>0.00</td>\n",
       "      <td>2.00</td>\n",
       "      <td>5.00</td>\n",
       "      <td>12.00</td>\n",
       "      <td>28.00</td>\n",
       "    </tr>\n",
       "    <tr>\n",
       "      <th>market</th>\n",
       "      <td>513.0</td>\n",
       "      <td>0.948558</td>\n",
       "      <td>0.149524</td>\n",
       "      <td>0.71</td>\n",
       "      <td>0.84</td>\n",
       "      <td>0.92</td>\n",
       "      <td>1.02</td>\n",
       "      <td>1.33</td>\n",
       "    </tr>\n",
       "    <tr>\n",
       "      <th>degree</th>\n",
       "      <td>513.0</td>\n",
       "      <td>0.964912</td>\n",
       "      <td>0.184181</td>\n",
       "      <td>0.00</td>\n",
       "      <td>1.00</td>\n",
       "      <td>1.00</td>\n",
       "      <td>1.00</td>\n",
       "      <td>1.00</td>\n",
       "    </tr>\n",
       "    <tr>\n",
       "      <th>otherqual</th>\n",
       "      <td>513.0</td>\n",
       "      <td>0.044834</td>\n",
       "      <td>0.207142</td>\n",
       "      <td>0.00</td>\n",
       "      <td>0.00</td>\n",
       "      <td>0.00</td>\n",
       "      <td>0.00</td>\n",
       "      <td>1.00</td>\n",
       "    </tr>\n",
       "    <tr>\n",
       "      <th>position</th>\n",
       "      <td>513.0</td>\n",
       "      <td>2.130604</td>\n",
       "      <td>0.819977</td>\n",
       "      <td>1.00</td>\n",
       "      <td>1.00</td>\n",
       "      <td>2.00</td>\n",
       "      <td>3.00</td>\n",
       "      <td>3.00</td>\n",
       "    </tr>\n",
       "    <tr>\n",
       "      <th>male</th>\n",
       "      <td>513.0</td>\n",
       "      <td>0.750487</td>\n",
       "      <td>0.433153</td>\n",
       "      <td>0.00</td>\n",
       "      <td>1.00</td>\n",
       "      <td>1.00</td>\n",
       "      <td>1.00</td>\n",
       "      <td>1.00</td>\n",
       "    </tr>\n",
       "    <tr>\n",
       "      <th>Field</th>\n",
       "      <td>513.0</td>\n",
       "      <td>2.526316</td>\n",
       "      <td>1.126644</td>\n",
       "      <td>1.00</td>\n",
       "      <td>2.00</td>\n",
       "      <td>3.00</td>\n",
       "      <td>4.00</td>\n",
       "      <td>4.00</td>\n",
       "    </tr>\n",
       "    <tr>\n",
       "      <th>yearsabs</th>\n",
       "      <td>513.0</td>\n",
       "      <td>6.994152</td>\n",
       "      <td>16.887552</td>\n",
       "      <td>0.00</td>\n",
       "      <td>0.00</td>\n",
       "      <td>1.00</td>\n",
       "      <td>2.00</td>\n",
       "      <td>118.00</td>\n",
       "    </tr>\n",
       "  </tbody>\n",
       "</table>\n",
       "</div>"
      ],
      "text/plain": [
       "             count          mean           std       min       25%       50%  \\\n",
       "salary       513.0  50863.220098  12685.132358  29000.00  40000.00  50096.00   \n",
       "exprior      513.0      2.931774      4.794327      0.00      0.00      1.00   \n",
       "yearsworked  513.0     12.836257      9.447040      0.00      4.00     12.00   \n",
       "yearsrank    513.0      7.046784      6.419708      0.00      2.00      5.00   \n",
       "market       513.0      0.948558      0.149524      0.71      0.84      0.92   \n",
       "degree       513.0      0.964912      0.184181      0.00      1.00      1.00   \n",
       "otherqual    513.0      0.044834      0.207142      0.00      0.00      0.00   \n",
       "position     513.0      2.130604      0.819977      1.00      1.00      2.00   \n",
       "male         513.0      0.750487      0.433153      0.00      1.00      1.00   \n",
       "Field        513.0      2.526316      1.126644      1.00      2.00      3.00   \n",
       "yearsabs     513.0      6.994152     16.887552      0.00      0.00      1.00   \n",
       "\n",
       "                  75%       max  \n",
       "salary       60345.00  96156.00  \n",
       "exprior          4.00     25.00  \n",
       "yearsworked     22.00     41.00  \n",
       "yearsrank       12.00     28.00  \n",
       "market           1.02      1.33  \n",
       "degree           1.00      1.00  \n",
       "otherqual        0.00      1.00  \n",
       "position         3.00      3.00  \n",
       "male             1.00      1.00  \n",
       "Field            4.00      4.00  \n",
       "yearsabs         2.00    118.00  "
      ]
     },
     "execution_count": 7,
     "metadata": {},
     "output_type": "execute_result"
    }
   ],
   "source": [
    "#Data summary\n",
    "salaries.describe().T"
   ]
  },
  {
   "cell_type": "code",
   "execution_count": 8,
   "metadata": {},
   "outputs": [
    {
     "data": {
      "text/plain": [
       "{dtype('int64'): Index(['exprior', 'yearsworked', 'yearsrank', 'degree', 'otherqual',\n",
       "        'position', 'male', 'Field', 'yearsabs'],\n",
       "       dtype='object'),\n",
       " dtype('float64'): Index(['salary', 'market'], dtype='object')}"
      ]
     },
     "execution_count": 8,
     "metadata": {},
     "output_type": "execute_result"
    }
   ],
   "source": [
    "#Checking columns and their datatypes\n",
    "salaries.columns.to_series().groupby(salaries.dtypes).groups"
   ]
  },
  {
   "cell_type": "code",
   "execution_count": 9,
   "metadata": {},
   "outputs": [
    {
     "data": {
      "image/png": "[encoded data removed]",
      "text/plain": [
       "<Figure size 720x720 with 12 Axes>"
      ]
     },
     "metadata": {
      "needs_background": "light"
     },
     "output_type": "display_data"
    }
   ],
   "source": [
    "# Visualizing Histrograms\n",
    "salaries.hist(figsize =(10, 10), color = \"indigo\");\n",
    "_= plt.show()\n"
   ]
  },
  {
   "cell_type": "markdown",
   "metadata": {},
   "source": [
    "•Many histograms are tail-heavy meaning several distributions are right-skewed (e.g.exprior,market,salary,yerasrank and yearsworked).\n",
    "\n",
    "•Data transformation methods may be required to approach a normal distribution prior to fitting a model to the data.\n",
    "\n",
    "•Field has a normal distribution,looks like the mean and median are almost equal.\n",
    "\n",
    "•While position,degree and male look like left-skewed distribution."
   ]
  },
  {
   "cell_type": "code",
   "execution_count": null,
   "metadata": {},
   "outputs": [],
   "source": [
    "# Visualising data using pairplots\n",
    "sns.set(style=\"ticks\", color_codes=True)\n",
    "plt.figure(figsize = (35,35))\n",
    "sns.pairplot(salaries[[\"salary\",\"position\",\"yearsworked\",\"yearsrank\"]]);\n",
    "_=plt.show();"
   ]
  },
  {
   "cell_type": "markdown",
   "metadata": {},
   "source": [
    "•Looking at the scatter plot it is clear that there is a positive strong(moderate) relationship between salary and yearsworked and yearsrank.\n",
    "\n",
    "•Position has a strong positive relationship with salary but it is not a linear relationship.\n",
    "\n",
    "•The above graph show that there is multicollinearity,meaning there is a high correlation between the independent variables. \n"
   ]
  },
  {
   "cell_type": "code",
   "execution_count": null,
   "metadata": {},
   "outputs": [],
   "source": [
    "#Checking the relatioships \n",
    "salaries.corr()[\"salary\"]"
   ]
  },
  {
   "cell_type": "markdown",
   "metadata": {},
   "source": [
    "•Position has a positive strong relationship with salary.\n",
    "\n",
    "•Yearworked and yearsrank have a moderate relationship with salary because the corr is more than +0.5\n",
    "\n",
    "•Lastly Field has a weak negative relationship with salary."
   ]
  },
  {
   "cell_type": "code",
   "execution_count": null,
   "metadata": {},
   "outputs": [],
   "source": [
    "#Reading Salary metadat csv file to see Explanation to create dictionaries\n",
    "salary = pd.read_csv(\"Salary metadata.csv\", delimiter = \";\")\n",
    "salary"
   ]
  },
  {
   "cell_type": "code",
   "execution_count": null,
   "metadata": {},
   "outputs": [],
   "source": [
    "#Creating dummies for field and renaming columns\n",
    "field_df = pd.get_dummies(salaries.Field)\n",
    "field_df = field_df.rename(columns={1: \"Engineering\", 2: \"Finance\",\n",
    "                                3:\"Human Resources\", 4: \"Marketing\"})\n",
    "\n",
    "field_df.head()"
   ]
  },
  {
   "cell_type": "code",
   "execution_count": null,
   "metadata": {},
   "outputs": [],
   "source": [
    "#merging original dataframe with dummies\n",
    "merged_df = pd.concat([salaries, field_df], axis=1)\n",
    "merged_df.head()"
   ]
  },
  {
   "cell_type": "code",
   "execution_count": null,
   "metadata": {},
   "outputs": [],
   "source": [
    "#Droping unnecessary columns\n",
    "salaries_df = merged_df.drop([\"exprior\",\"market\",\"degree\",\"otherqual\",\n",
    "                               \"male\",\"Field\",\"yearsabs\"], axis = 1)\n",
    "salaries_df.head()"
   ]
  },
  {
   "cell_type": "markdown",
   "metadata": {},
   "source": [
    "###### Hypothesis Testing :\n",
    "\n",
    "•Null Hypothesis : The relationship(correlation) between salary and yearsworked,yearsrank and position has no significance\n",
    "\n",
    "•Alternate Hypothesis : The relationship(correlation) between salary and yearsworked,yearsrank and position has significance."
   ]
  },
  {
   "cell_type": "code",
   "execution_count": null,
   "metadata": {},
   "outputs": [],
   "source": [
    "pearsonr(salaries_df.yearsrank,salaries_df.salary)"
   ]
  },
  {
   "cell_type": "code",
   "execution_count": null,
   "metadata": {},
   "outputs": [],
   "source": [
    "sns.set()\n",
    "plt.figure(figsize = (6,4))\n",
    "sns.regplot(data = salaries_df, x = salaries_df.yearsrank, \n",
    "            y =salaries[\"salary\"],ci = 68,color = \"indigo\")\n",
    "plt.xlabel(\"Yearsrank\", fontsize = 12)\n",
    "plt.ylabel(\"Salary\", fontsize = 12 )\n",
    "_= plt.title(\"Years Rank VS Salary\", fontsize = 16)"
   ]
  },
  {
   "cell_type": "markdown",
   "metadata": {},
   "source": [
    "•Looking at the p-values and the regression plot for yearsrank we reject the null hypothesis because there is a linear relationship between salary and yearsrank."
   ]
  },
  {
   "cell_type": "code",
   "execution_count": null,
   "metadata": {},
   "outputs": [],
   "source": [
    "pearsonr(salaries_df.yearsworked,salaries_df.salary)"
   ]
  },
  {
   "cell_type": "code",
   "execution_count": null,
   "metadata": {},
   "outputs": [],
   "source": [
    "sns.set()\n",
    "plt.figure(figsize = (6,4))\n",
    "sns.regplot(data = salaries_df, x = salaries_df[\"yearsworked\"],\n",
    "            y =salaries_df[\"salary\"],ci = 68,color = \"blue\")\n",
    "plt.xlabel(\"Years worked\", fontsize = 12)\n",
    "plt.ylabel(\"Salary\", fontsize = 12 )\n",
    "_= plt.title(\"Years Worked VS Salary\", fontsize = 16)"
   ]
  },
  {
   "cell_type": "markdown",
   "metadata": {},
   "source": [
    "•Looking at the p-values and the regression plot for yearsworked we reject the null hypothesis because there is a linear relationship between salary and yearsworked."
   ]
  },
  {
   "cell_type": "code",
   "execution_count": null,
   "metadata": {},
   "outputs": [],
   "source": [
    "pearsonr(salaries.position,salaries_df.salary)"
   ]
  },
  {
   "cell_type": "code",
   "execution_count": null,
   "metadata": {},
   "outputs": [],
   "source": [
    "sns.set()\n",
    "plt.figure(figsize = (6,4))\n",
    "sns.regplot(data = salaries_df, x = salaries_df[\"position\"],\n",
    "            y =salaries_df[\"salary\"],ci = 68,color = \"purple\")\n",
    "plt.xlabel(\"Years worked\", fontsize = 12)\n",
    "plt.ylabel(\"Salary\", fontsize = 12 )\n",
    "_= plt.title(\"Years Worked VS Salary\", fontsize = 16)"
   ]
  },
  {
   "cell_type": "markdown",
   "metadata": {},
   "source": [
    "•The above graph shows that there is correlation between position and salary eventhough it looks like a bar graph but it is a regression plot because it is a categorical data."
   ]
  },
  {
   "cell_type": "code",
   "execution_count": null,
   "metadata": {},
   "outputs": [],
   "source": [
    "plt.figure(figsize=(10,8))\n",
    "sns.heatmap(salaries.corr(), annot=True, linewidth=0.1)\n"
   ]
  },
  {
   "cell_type": "code",
   "execution_count": null,
   "metadata": {},
   "outputs": [],
   "source": [
    "#Calculating the Vsariance Inflation Factor\n",
    "\n",
    "VIF = pd.Series([variance_inflation_factor(salaries_df.values, x) \n",
    "               for x in range(salaries_df.shape[1])], \n",
    "              index=salaries_df.columns)\n",
    "\n",
    "VIF "
   ]
  },
  {
   "cell_type": "markdown",
   "metadata": {},
   "source": [
    "•The VIF for Field(Engineering) is very high it indicates multicollinearity.\n",
    "\n",
    "•The VIF for yearsworked,finance,HR and marketing are high there is multicollinearity.\n",
    "\n",
    "•The VIF for salary,yearsrank and position are moderate correlation but they don't affect the results.\n",
    "\n",
    "•Transformation may be need"
   ]
  },
  {
   "cell_type": "markdown",
   "metadata": {},
   "source": [
    "###### Hypothesis Testing\n",
    "\n",
    "\n",
    "•Null hypothesis:Multicollinearity is not significant.\n",
    "\n",
    "•Alternate Hypothesis:Multicollinearity is significant.\n"
   ]
  },
  {
   "cell_type": "code",
   "execution_count": null,
   "metadata": {},
   "outputs": [],
   "source": [
    "print(f'•p-values between yearsworked and yearsrank = {stats.pearsonr(salaries.yearsworked,salaries.yearsrank)}')\n",
    "print(f'•p-values between yearsrank and position = {stats.pearsonr(salaries.yearsrank, salaries.position)}')\n",
    "print(f'•p-values between postion and years-worked = {stats.pearsonr(salaries.position,salaries.yearsworked)}')"
   ]
  },
  {
   "cell_type": "markdown",
   "metadata": {},
   "source": [
    "•The above p-values show that there is multicollinearity,meaning there is a high correlation between the independent variables.I reject my null hyphothesis and and say that multicollinearity of these characteristics is significant.The p-value is above the threshold 0.05 "
   ]
  },
  {
   "cell_type": "code",
   "execution_count": null,
   "metadata": {},
   "outputs": [],
   "source": [
    "#Creating training and testing target\n",
    "\n",
    "X = salaries_df[[\"yearsworked\",\"yearsrank\"]]\n",
    "X = sm.add_constant(X)\n",
    "y = salaries_df.salary\n",
    "\n",
    "#Splitting traring and testing\n",
    "X_train,X_test,y_train, y_test = train_test_split(X, y, test_size=0.2,random_state=42)\n",
    "print(X_train.shape,X_test.shape,y_train.shape, y_test.shape)"
   ]
  },
  {
   "cell_type": "code",
   "execution_count": null,
   "metadata": {},
   "outputs": [],
   "source": [
    "#checking to see if training set has any null values\n",
    "np.any(np.isnan(X_train))"
   ]
  },
  {
   "cell_type": "code",
   "execution_count": null,
   "metadata": {},
   "outputs": [],
   "source": [
    "#checking to see if testing set has any null values\n",
    "np.any(np.isnan(y_train))"
   ]
  },
  {
   "cell_type": "code",
   "execution_count": null,
   "metadata": {},
   "outputs": [],
   "source": [
    "# create a train model in one line\n",
    "model = sm.OLS(y_train, X_train).fit()\n",
    "pred = model.predict(X_test)\n",
    "\n",
    "#model summary\n",
    "model.summary()"
   ]
  },
  {
   "cell_type": "code",
   "execution_count": null,
   "metadata": {},
   "outputs": [],
   "source": [
    "#finding regression score\n",
    "lr = LinearRegression().fit(X_train, y_train)\n",
    "lr_pred= lr.predict(X_test)\n",
    "lr.score(X_train, y_train)"
   ]
  },
  {
   "cell_type": "markdown",
   "metadata": {},
   "source": [
    "•The model does significantly predict the dependant variable as the R^2 value is 0.447, which shows moderate accuracy.\n",
    "\n",
    "•44.7% of employees’ salaries is accounted for by our independant variables(yearsworked, yearsrank and positon)"
   ]
  },
  {
   "cell_type": "code",
   "execution_count": null,
   "metadata": {},
   "outputs": [],
   "source": [
    "#coeff\n",
    "model.params"
   ]
  },
  {
   "cell_type": "code",
   "execution_count": null,
   "metadata": {},
   "outputs": [],
   "source": [
    "#Calculating Rmse of training ad testing\n",
    "rmse_train = rmse(y_train, model.predict(X_train))\n",
    "rmse_test = rmse(y_test, model.predict(X_test))\n",
    "print(\"Train RMSE = \",rmse_train)\n",
    "print(\"Test RMSE = \",rmse_test)"
   ]
  },
  {
   "cell_type": "code",
   "execution_count": null,
   "metadata": {},
   "outputs": [],
   "source": [
    "# diff\n",
    "rmse_diff = rmse_test - rmse_train\n",
    "rmse_diff"
   ]
  },
  {
   "cell_type": "markdown",
   "metadata": {},
   "source": [
    "•Looking at the RMSE scores there are no signs of overfitting or underfitting. The test is higer than the train values which makes sense as the model should be more accurate in predicting values it has already seen in the training set."
   ]
  },
  {
   "cell_type": "code",
   "execution_count": null,
   "metadata": {},
   "outputs": [],
   "source": [
    "residual = y_test - pred\n",
    "residual.head()"
   ]
  },
  {
   "cell_type": "code",
   "execution_count": null,
   "metadata": {},
   "outputs": [],
   "source": [
    "#Creating a dataframe for residuals\n",
    "predict = pd.concat([X_test, y_test,pred], axis=1)\n",
    "predict.rename(columns={0: \"Predictions\"}, inplace=True)\n",
    "predict[\"Residual\"] = predict[\"salary\"] - predict[\"Predictions\"]\n",
    "predict.head()"
   ]
  },
  {
   "cell_type": "code",
   "execution_count": null,
   "metadata": {},
   "outputs": [],
   "source": [
    "#A residuals plot\n",
    "plt.figure(figsize=(8,6))\n",
    "sns.set()\n",
    "sns.residplot(x = pred, y = residual, lowess=True, color = \"maroon\")\n",
    "plt.title(\"Residuals versus the Predicted Salary\",fontsize = 18)\n",
    "plt.xlabel(\"Fitted Values\",fontsize = 15)\n",
    "plt.ylabel(\"Residuals\",fontsize = 15);"
   ]
  },
  {
   "cell_type": "code",
   "execution_count": null,
   "metadata": {},
   "outputs": [],
   "source": [
    "#Fitting test model\n",
    "model_test = sm.OLS(y_test, X_test).fit()\n",
    "#Model summary\n",
    "model_test.summary()"
   ]
  },
  {
   "cell_type": "code",
   "execution_count": null,
   "metadata": {},
   "outputs": [],
   "source": [
    "from sklearn.linear_model import Ridge\n",
    "from yellowbrick.regressor import ResidualsPlot\n",
    "\n",
    "visualizer = ResidualsPlot(lr)\n",
    "visualizer.fit(X_train, y_train)  \n",
    "visualizer.score(X_test, y_test)  \n",
    "visualizer.show()\n"
   ]
  },
  {
   "cell_type": "markdown",
   "metadata": {},
   "source": [
    "This seems to be a good model since it has satisfied the following linear regression assumptions:\n",
    "\n",
    "    •It has Linear relationship\n",
    "    •It has no auto-correlation\n",
    "    •It has no multicollinearity\n",
    "    •It has multivariate normality  "
   ]
  },
  {
   "cell_type": "markdown",
   "metadata": {},
   "source": [
    "### OOP for models\n",
    "\n",
    "#### First Model"
   ]
  },
  {
   "cell_type": "code",
   "execution_count": null,
   "metadata": {},
   "outputs": [],
   "source": [
    "#Log transforming salary\n",
    "from sklearn.preprocessing import StandardScaler\n",
    "\n",
    "transform = StandardScaler()\n",
    "\n",
    "transformed = transform.fit_transform(salaries)\n",
    "\n",
    "transformed = pd.DataFrame(transformed, columns = salaries.columns)\n",
    "\n",
    "transformed.head()"
   ]
  },
  {
   "cell_type": "code",
   "execution_count": null,
   "metadata": {},
   "outputs": [],
   "source": [
    "#Creating training and testing target\n",
    "\n",
    "X1 = transformed[[\"yearsworked\",\"yearsrank\"]]\n",
    "X1 = sm.add_constant(X1)\n",
    "y1 = transformed.salary\n",
    "\n",
    "#Splitting traring and testing\n",
    "X_train1,X_test1,y_train1, y_test1 = train_test_split(X1, y1, test_size = 0.2,random_state=42)\n",
    "print(X_train1.shape,X_test1.shape,y_train1.shape, y_test1.shape)"
   ]
  },
  {
   "cell_type": "code",
   "execution_count": null,
   "metadata": {},
   "outputs": [],
   "source": [
    "# create a train model in one line\n",
    "model1 = sm.OLS(y_train1, X_train1).fit()\n",
    "pred = model1.predict(X_test1)\n",
    "\n",
    "#model summary\n",
    "model1.summary()"
   ]
  },
  {
   "cell_type": "code",
   "execution_count": null,
   "metadata": {
    "scrolled": true
   },
   "outputs": [],
   "source": [
    "model1_errors = ErrorCalculator(y_test1, pred)\n",
    "\n",
    "print(f\"•The Mean Square Error(Model1) = {model1_errors.get_mse()}\")\n",
    "print(f\"•The Root Square Mean Error(Model1) = {model1_errors.get_rmse()}\")\n"
   ]
  },
  {
   "cell_type": "code",
   "execution_count": null,
   "metadata": {},
   "outputs": [],
   "source": [
    "# Model1 error summary\n",
    "model1_errors.error_summary()\n"
   ]
  },
  {
   "cell_type": "code",
   "execution_count": null,
   "metadata": {},
   "outputs": [],
   "source": [
    "model1_plot = HistogramPlotter(y_test1, model1.predict(sm.add_constant(X_test1)))\n",
    "model1_scatter = ScatterPlotter(y_test1, model1.predict(sm.add_constant(X_test1)))\n"
   ]
  },
  {
   "cell_type": "code",
   "execution_count": null,
   "metadata": {},
   "outputs": [],
   "source": []
  }
 ],
 "metadata": {
  "kernelspec": {
   "display_name": "Python 3",
   "language": "python",
   "name": "python3"
  },
  "language_info": {
   "codemirror_mode": {
    "name": "ipython",
    "version": 3
   },
   "file_extension": ".py",
   "mimetype": "text/x-python",
   "name": "python",
   "nbconvert_exporter": "python",
   "pygments_lexer": "ipython3",
   "version": "3.6.9"
  }
 },
 "nbformat": 4,
 "nbformat_minor": 4
}
